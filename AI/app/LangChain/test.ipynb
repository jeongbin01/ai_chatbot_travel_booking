{
 "cells": [
  {
   "cell_type": "code",
   "execution_count": 7,
   "id": "05da0fbb",
   "metadata": {},
   "outputs": [],
   "source": [
    "from langchain_core.output_parsers import StrOutputParser\n",
    "from langchain.prompts import PromptTemplate\n",
    "from langchain_openai import ChatOpenAI\n",
    "from pydantic import BaseModel, Field\n",
    "from langchain_core.output_parsers import JsonOutputParser\n",
    "import yaml\n",
    "import os\n",
    "from dotenv import load_dotenv\n",
    "load_dotenv()\n",
    "\n",
    "\n",
    "class Answer(BaseModel):\n",
    "    title_en: str = Field(description=\"\")\n",
    "    title_ko: str = Field(description=\"\")\n",
    "    contents: str = Field(default=\"\")\n",
    "    detail_contents: str = Field(description=\"\")\n",
    "    urls: str = Field(description=\"\")\n",
    "\n",
    "class QandAChain:\n",
    "    def __init__(self):\n",
    "        base_path = os.getcwd() \n",
    "        # base_path = os.path.dirna/e(os.path.abspath(__file__))  # 현재 파일의 경로\n",
    "        file_path = os.path.join(base_path, 'prompt', 'QandAPrompt.yaml')\n",
    "\n",
    "        #with open(file_path, 'r') as f:\n",
    "        #    self.__prompt_template = yaml.load(f, Loader=yaml.SafeLoader)['template']\n",
    "        \n",
    "        self.__prompt_template = \"\"\"\n",
    "        너는 여행 정보를 제공하는 AI야.\n",
    "\n",
    "        사용자의 질문에 아래 JSON 형식으로 답변해 줘:\n",
    "\n",
    "        {format_instructions}\n",
    "\n",
    "        질문: {question}\n",
    "        \"\"\"\n",
    "\n",
    "        self.__model = ChatOpenAI(\n",
    "            temperature = 0.1,\n",
    "            model_name=\"gpt-4o-mini\",\n",
    "            max_tokens = 2048,\n",
    "            openai_api_key=os.getenv(\"OPENAI_API_KEY\")\n",
    "        )\n",
    "        self.__parser = JsonOutputParser(pydantic_object=Answer)\n",
    "        # self.__parser = StrOutputParser()\n",
    "\n",
    "    def main_chain_invoke(self, question):\n",
    "        prompt = PromptTemplate.from_template(self.__prompt_template)\n",
    "        prompt = prompt.partial(format_instructions=self.__parser.get_format_instructions())\n",
    "\n",
    "        chain = prompt | self.__model | self.__parser\n",
    "\n",
    "        result = chain.invoke({\"question\": question})\n",
    "        return result"
   ]
  },
  {
   "cell_type": "code",
   "execution_count": 8,
   "id": "d48cdd2d",
   "metadata": {},
   "outputs": [
    {
     "name": "stdout",
     "output_type": "stream",
     "text": [
      "{'title_en': 'What is LangChain?', 'title_ko': 'LangChain이란?', 'contents': 'LangChain은 자연어 처리(NLP)와 관련된 다양한 작업을 수행하기 위한 프레임워크입니다.', 'detail_contents': 'LangChain은 언어 모델을 활용하여 데이터 처리, 대화형 AI, 정보 검색 등 다양한 응용 프로그램을 구축할 수 있도록 돕는 도구입니다. 이 프레임워크는 여러 가지 모듈과 구성 요소를 제공하여 개발자가 쉽게 복잡한 NLP 작업을 수행할 수 있게 합니다.', 'urls': 'https://langchain.readthedocs.io/'}\n"
     ]
    }
   ],
   "source": [
    "if __name__ == \"__main__\":\n",
    "    chain = QandAChain()\n",
    "    result = chain.main_chain_invoke(\"LangChain이란?\")\n",
    "    print(result)"
   ]
  },
  {
   "cell_type": "markdown",
   "id": "a54ad751",
   "metadata": {},
   "source": []
  },
  {
   "cell_type": "code",
   "execution_count": null,
   "id": "e08b1001",
   "metadata": {},
   "outputs": [
    {
     "name": "stdout",
     "output_type": "stream",
     "text": [
      "200\n",
      "{\"response\": {\"header\":{\"resultCode\":\"0000\",\"resultMsg\":\"OK\"},\"body\": {\"items\": {\"item\":[{\"addr1\":\"서울특별시 종로구 평창30길 28\",\"addr2\":\"(평창동)\",\"areacode\":\"1\",\"cat1\":\"A02\",\"cat2\":\"A0206\",\"cat3\":\"A02060500\",\"contentid\":\"129854\",\"contenttypeid\":\"14\",\"createdtime\":\"20071106103314\",\"firstimage\":\"http://tong.visitkorea.or.kr/cms/resource/11/3506711_image2_1.jpg\",\"firstimage2\":\"http://tong.visitkorea.or.kr/cms/resource/11/3506711_image3_1.jpg\",\"cpyrhtDivCd\":\"Type1\",\"mapx\":\"126.9751811398\",\"mapy\":\"37.6122099878\",\"mlevel\":\"6\",\"modifiedtime\":\"20250718090000\",\"sigungucode\":\"23\",\"tel\":\"\",\"title\":\"가나아트센터\",\"zipcode\":\"03004\",\"lDongRegnCd\":\"11\",\"lDongSignguCd\":\"110\",\"lclsSystm1\":\"VE\",\"lclsSystm2\":\"VE07\",\"lclsSystm3\":\"VE070600\"},{\"addr1\":\"서울특별시 종로구 인사동10길 11 (관훈동)\",\"addr2\":\"\",\"areacode\":\"1\",\"cat1\":\"A02\",\"cat2\":\"A0206\",\"cat3\":\"A02060500\",\"contentid\":\"129898\",\"contenttypeid\":\"14\",\"createdtime\":\"20071106103446\",\"firstimage\":\"http://tong.visitkorea.or.kr/cms/resource/36/3505536_image2_1.jpg\",\"firstimage2\":\"http://tong.visitkorea.or.kr/cms/resource/36/3505536_image3_1.jpg\",\"cpyrhtDivCd\":\"Type1\",\"mapx\":\"126.9856284839\",\"mapy\":\"37.5743368010\",\"mlevel\":\"6\",\"modifiedtime\":\"20250711162958\",\"sigungucode\":\"23\",\"tel\":\"\",\"title\":\"가람화랑\",\"zipcode\":\"03146\",\"lDongRegnCd\":\"11\",\"lDongSignguCd\":\"110\",\"lclsSystm1\":\"VE\",\"lclsSystm2\":\"VE07\",\"lclsSystm3\":\"VE070600\"},{\"addr1\":\"서울특별시 종로구 창경궁로 296-12\",\"addr2\":\"(혜화동)\",\"areacode\":\"1\",\"cat1\":\"A02\",\"cat2\":\"A0206\",\"cat3\":\"A02060900\",\"contentid\":\"130233\",\"contenttypeid\":\"14\",\"createdtime\":\"20071106104803\",\"firstimage\":\"http://tong.visitkorea.or.kr/cms/resource/38/1894738_image2_1.jpg\",\"firstimage2\":\"http://tong.visitkorea.or.kr/cms/resource/38/1894738_image3_1.jpg\",\"cpyrhtDivCd\":\"Type3\",\"mapx\":\"127.0043347827\",\"mapy\":\"37.5859580079\",\"mlevel\":\"6\",\"modifiedtime\":\"20240912185351\",\"sigungucode\":\"23\",\"tel\":\"\",\"title\":\"가톨릭대학교 성신교정도서관\",\"zipcode\":\"03083\",\"lDongRegnCd\":\"11\",\"lDongSignguCd\":\"110\",\"lclsSystm1\":\"VE\",\"lclsSystm2\":\"VE09\",\"lclsSystm3\":\"VE090300\"},{\"addr1\":\"서울특별시 종로구 북촌로 57 (가회동)\",\"addr2\":\"\",\"areacode\":\"1\",\"cat1\":\"A02\",\"cat2\":\"A0201\",\"cat3\":\"A02010900\",\"contentid\":\"2733967\",\"contenttypeid\":\"12\",\"createdtime\":\"20210817184103\",\"firstimage\":\"http://tong.visitkorea.or.kr/cms/resource/09/3303909_image2_1.jpg\",\"firstimage2\":\"http://tong.visitkorea.or.kr/cms/resource/09/3303909_image3_1.jpg\",\"cpyrhtDivCd\":\"Type3\",\"mapx\":\"126.9846616856\",\"mapy\":\"37.5820858828\",\"mlevel\":\"6\",\"modifiedtime\":\"20250312152659\",\"sigungucode\":\"23\",\"tel\":\"\",\"title\":\"가회동성당\",\"zipcode\":\"03052\",\"lDongRegnCd\":\"11\",\"lDongSignguCd\":\"110\",\"lclsSystm1\":\"HS\",\"lclsSystm2\":\"HS03\",\"lclsSystm3\":\"HS030200\"},{\"addr1\":\"서울특별시 종로구 북촌로 52 (가회동)\",\"addr2\":\"\",\"areacode\":\"1\",\"cat1\":\"A02\",\"cat2\":\"A0206\",\"cat3\":\"A02060100\",\"contentid\":\"130446\",\"contenttypeid\":\"14\",\"createdtime\":\"20071106105801\",\"firstimage\":\"http://tong.visitkorea.or.kr/cms/resource/90/3355090_image2_1.png\",\"firstimage2\":\"http://tong.visitkorea.or.kr/cms/resource/90/3355090_image3_1.png\",\"cpyrhtDivCd\":\"Type3\",\"mapx\":\"126.9852783115\",\"mapy\":\"37.5815442900\",\"mlevel\":\"6\",\"modifiedtime\":\"20250314172341\",\"sigungucode\":\"23\",\"tel\":\"\",\"title\":\"가회민화박물관\",\"zipcode\":\"03056\",\"lDongRegnCd\":\"11\",\"lDongSignguCd\":\"110\",\"lclsSystm1\":\"VE\",\"lclsSystm2\":\"VE07\",\"lclsSystm3\":\"VE070100\"},{\"addr1\":\"서울특별시 종로구 돈화문로11다길 38\",\"addr2\":\"\",\"areacode\":\"1\",\"cat1\":\"A05\",\"cat2\":\"A0502\",\"cat3\":\"A05020900\",\"contentid\":\"2622715\",\"contenttypeid\":\"39\",\"createdtime\":\"20191003020423\",\"firstimage\":\"http://tong.visitkorea.or.kr/cms/resource/24/2622724_image2_1.jpg\",\"firstimage2\":\"http://tong.visitkorea.or.kr/cms/resource/24/2622724_image2_1.jpg\",\"cpyrhtDivCd\":\"Type3\",\"mapx\":\"126.9900725369\",\"mapy\":\"37.5738480486\",\"mlevel\":\"6\",\"modifiedtime\":\"20240731090535\",\"sigungucode\":\"23\",\"tel\":\"02-747-3999\",\"title\":\"감꽃당\",\"zipcode\":\"03133\",\"lDongRegnCd\":\"11\",\"lDongSignguCd\":\"110\",\"lclsSystm1\":\"FD\",\"lclsSystm2\":\"FD05\",\"lclsSystm3\":\"FD050100\"},{\"addr1\":\"서울특별시 종로구 율곡로23길 16 (충신동)\",\"addr2\":\"\",\"areacode\":\"1\",\"cat1\":\"A02\",\"cat2\":\"A0201\",\"cat3\":\"A02010800\",\"contentid\":\"294439\",\"contenttypeid\":\"12\",\"createdtime\":\"20071127005251\",\"firstimage\":\"http://tong.visitkorea.or.kr/cms/resource/22/3481922_image2_1.jpg\",\"firstimage2\":\"http://tong.visitkorea.or.kr/cms/resource/22/3481922_image3_1.jpg\",\"cpyrhtDivCd\":\"Type3\",\"mapx\":\"127.0066515383\",\"mapy\":\"37.5753815016\",\"mlevel\":\"6\",\"modifiedtime\":\"20250311172529\",\"sigungucode\":\"23\",\"tel\":\"\",\"title\":\"감로암(서울)\",\"zipcode\":\"03099\",\"lDongRegnCd\":\"11\",\"lDongSignguCd\":\"110\",\"lclsSystm1\":\"HS\",\"lclsSystm2\":\"HS03\",\"lclsSystm3\":\"HS030100\"},{\"addr1\":\"서울특별시 종로구 종로 166-1\",\"addr2\":\"\",\"areacode\":\"1\",\"cat1\":\"A05\",\"cat2\":\"A0502\",\"cat3\":\"A05020100\",\"contentid\":\"2652929\",\"contenttypeid\":\"39\",\"createdtime\":\"20200417233444\",\"firstimage\":\"http://tong.visitkorea.or.kr/cms/resource/22/2654722_image2_1.jpg\",\"firstimage2\":\"http://tong.visitkorea.or.kr/cms/resource/22/2654722_image2_1.jpg\",\"cpyrhtDivCd\":\"Type3\",\"mapx\":\"126.9961359696\",\"mapy\":\"37.5704652174\",\"mlevel\":\"6\",\"modifiedtime\":\"20210216012757\",\"sigungucode\":\"23\",\"tel\":\"02-2269-6933\",\"title\":\"감미옥\",\"zipcode\":\"03194\",\"lDongRegnCd\":\"11\",\"lDongSignguCd\":\"110\",\"lclsSystm1\":\"FD\",\"lclsSystm2\":\"FD01\",\"lclsSystm3\":\"FD010100\"},{\"addr1\":\"서울특별시 종로구 평창30길 9\",\"addr2\":\"\",\"areacode\":\"1\",\"cat1\":\"A05\",\"cat2\":\"A0502\",\"cat3\":\"A05020100\",\"contentid\":\"2847165\",\"contenttypeid\":\"39\",\"createdtime\":\"20220831154100\",\"firstimage\":\"http://tong.visitkorea.or.kr/cms/resource/54/2847154_image2_1.jpg\",\"firstimage2\":\"http://tong.visitkorea.or.kr/cms/resource/54/2847154_image3_1.jpg\",\"cpyrhtDivCd\":\"Type3\",\"mapx\":\"126.9747812177\",\"mapy\":\"37.6107629270\",\"mlevel\":\"6\",\"modifiedtime\":\"20250110160059\",\"sigungucode\":\"23\",\"tel\":\"\",\"title\":\"강촌쌈밥\",\"zipcode\":\"03004\",\"lDongRegnCd\":\"11\",\"lDongSignguCd\":\"110\",\"lclsSystm1\":\"FD\",\"lclsSystm2\":\"FD01\",\"lclsSystm3\":\"FD010100\"},{\"addr1\":\"서울특별시 종로구 난계로27길 30-8 (숭인동)\",\"addr2\":\"1층\",\"areacode\":\"1\",\"cat1\":\"A05\",\"cat2\":\"A0502\",\"cat3\":\"A05020900\",\"contentid\":\"3486753\",\"contenttypeid\":\"39\",\"createdtime\":\"20250414174646\",\"firstimage\":\"http://tong.visitkorea.or.kr/cms/resource/56/3488056_image2_1.jpg\",\"firstimage2\":\"http://tong.visitkorea.or.kr/cms/resource/56/3488056_image3_1.jpg\",\"cpyrhtDivCd\":\"Type1\",\"mapx\":\"127.0215141284\",\"mapy\":\"37.5734236629\",\"mlevel\":\"6\",\"modifiedtime\":\"20250423193309\",\"sigungucode\":\"23\",\"tel\":\"\",\"title\":\"갗\",\"zipcode\":\"03115\",\"lDongRegnCd\":\"11\",\"lDongSignguCd\":\"110\",\"lclsSystm1\":\"FD\",\"lclsSystm2\":\"FD05\",\"lclsSystm3\":\"FD050300\"}]},\"numOfRows\":10,\"pageNo\":1,\"totalCount\":1000}}}\n"
     ]
    },
    {
     "data": {
      "text/plain": [
       "<Response [200]>"
      ]
     },
     "execution_count": 17,
     "metadata": {},
     "output_type": "execute_result"
    }
   ],
   "source": [
    "import requests\n",
    "import os\n",
    "from dotenv import load_dotenv\n",
    "\n",
    "load_dotenv()\n",
    "service_key = os.getenv(\"TOURAPI_SERVICE_KEY\")\n",
    "\n",
    "url = \"https://apis.data.go.kr/B551011/KorService2/areaBasedList2\"\n",
    "\n",
    "params = {\n",
    "    \"MobileOS\" : \"WEB\",\n",
    "    \"MobileApp\" : \"TOUR_AI\",\n",
    "    \"serviceKey\": service_key,\n",
    "    \"lDongRegnCd\" : \"11\",\n",
    "    \"lDongSignguCd\" : \"110\",\n",
    "    \"_type\": \"json\"\n",
    "    \"contentTypeId\" : \"12\"\n",
    "}\n",
    "\n",
    "\n",
    "\n",
    "res = requests.get(url, params=params)\n",
    "print(res.status_code)\n",
    "print(res.text)\n",
    "res\n",
    "# print(res.body)/\n"
   ]
  },
  {
   "cell_type": "code",
   "execution_count": 19,
   "id": "9785b08f",
   "metadata": {},
   "outputs": [
    {
     "name": "stdout",
     "output_type": "stream",
     "text": [
      "제목: 가나아트센터\n",
      "주소: 서울특별시 종로구 평창30길 28 (평창동)\n",
      "\n",
      "제목: 가람화랑\n",
      "주소: 서울특별시 종로구 인사동10길 11 (관훈동) \n",
      "\n",
      "제목: 가톨릭대학교 성신교정도서관\n",
      "주소: 서울특별시 종로구 창경궁로 296-12 (혜화동)\n",
      "\n",
      "제목: 가회동성당\n",
      "주소: 서울특별시 종로구 북촌로 57 (가회동) \n",
      "\n",
      "제목: 가회민화박물관\n",
      "주소: 서울특별시 종로구 북촌로 52 (가회동) \n",
      "\n",
      "제목: 감꽃당\n",
      "주소: 서울특별시 종로구 돈화문로11다길 38 \n",
      "\n",
      "제목: 감로암(서울)\n",
      "주소: 서울특별시 종로구 율곡로23길 16 (충신동) \n",
      "\n",
      "제목: 감미옥\n",
      "주소: 서울특별시 종로구 종로 166-1 \n",
      "\n",
      "제목: 강촌쌈밥\n",
      "주소: 서울특별시 종로구 평창30길 9 \n",
      "\n",
      "제목: 갗\n",
      "주소: 서울특별시 종로구 난계로27길 30-8 (숭인동) 1층\n",
      "\n"
     ]
    }
   ],
   "source": [
    "data = res.json()\n",
    "items = data[\"response\"][\"body\"][\"items\"][\"item\"]\n",
    "for item in items:\n",
    "    print(f\"제목: {item.get('title')}\")\n",
    "    print(f\"주소: {item.get('addr1')} {item.get('addr2')}\")\n",
    "    print()"
   ]
  },
  {
   "cell_type": "code",
   "execution_count": null,
   "id": "07b55c36",
   "metadata": {},
   "outputs": [],
   "source": []
  }
 ],
 "metadata": {
  "kernelspec": {
   "display_name": "python-osm-py3.12",
   "language": "python",
   "name": "python3"
  },
  "language_info": {
   "codemirror_mode": {
    "name": "ipython",
    "version": 3
   },
   "file_extension": ".py",
   "mimetype": "text/x-python",
   "name": "python",
   "nbconvert_exporter": "python",
   "pygments_lexer": "ipython3",
   "version": "3.12.3"
  }
 },
 "nbformat": 4,
 "nbformat_minor": 5
}
